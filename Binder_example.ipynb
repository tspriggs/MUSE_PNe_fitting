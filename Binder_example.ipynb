{
 "nbformat": 4,
 "nbformat_minor": 2,
 "metadata": {
  "language_info": {
   "name": "python",
   "codemirror_mode": {
    "name": "ipython",
    "version": 3
   },
   "version": "3.7.10"
  },
  "orig_nbformat": 2,
  "file_extension": ".py",
  "mimetype": "text/x-python",
  "name": "python",
  "npconvert_exporter": "python",
  "pygments_lexer": "ipython3",
  "version": 3,
  "kernelspec": {
   "name": "python3",
   "display_name": "Python 3",
   "language": "python"
  }
 },
 "cells": [
  {
   "source": [
    "# Binder Instructions\n",
    "\n",
    "The Binder button will take you to a fully interactive Jupyter Lab environment, where you can execute some of the scripts found within this repository. At present, there are two data files in `galaxy_data/FCCtest_data/`. The first is a residual cube ready for spaxel by spaxel fitting, and the second is a cut-out of the original MUSE cube (FCC161) that the residual cube has been cut from.\n",
    "\n",
    "## First steps\n",
    "\n",
    "### Setup the directory of our working environment\n",
    "When you first get this code package, we will want to setup the directory for the galaxies. The strucutre that is prefab from `scripts/other/directory_setup.py`, and reads galaxy names in from the `config/galaxy_info.yaml` file. These names will be used for the directory setup, keeping everything cleanly stored.\n",
    "\n",
    "We are also going to run the `%matplotlib inline` command so that the plotted figures we see in the next section show without the need to scroll a small window."
   ],
   "cell_type": "markdown",
   "metadata": {}
  },
  {
   "cell_type": "code",
   "execution_count": null,
   "metadata": {},
   "outputs": [],
   "source": [
    "%run scripts/other/directory_setup.py"
   ]
  },
  {
   "cell_type": "markdown",
   "metadata": {},
   "source": [
    "# Spaxel-by-spaxel fitting of Residual Cube\n",
    "\n",
    "To start the spaxel-by-spaxel fit for \\[OIII] emission lines in the residual data cube, we use the MUSE_spaxel_fit.py script. It is located in `scripts/pne_analysis/`. This script reads in the residual cube: `galaxy_data/FCCtest_data/FCCtestcenter_residual_cube.fits` and performs a spaxel by spaxel fit for the \\[OIII] 4959 5007 Å doublet. The detected PNe are saved in files that are ready for the next phase in PNe fitting. The script also saves plots that showcase the results of the spaxel-by-spaxel fit, including flux, signal to noise (A/rN) and highlighted potential PNe.\n",
    "\n",
    "To run this script, we first need to provide it with some command line arguments:\n",
    "\n",
    "```bash\n",
    "--galaxy FCCtest  # This defines the galaxy name that we want to fit.\n",
    "                  # (Required)\n",
    "\n",
    "--loc center      # This defines the location of the datacube:\n",
    "                  # e.g. with the Fornax3D survey, FCC161 had center, disk (middle) and halo pointings.\n",
    "                  # Defaults to \"center\".\n",
    "\n",
    "--fit             # This flag tells the script to perform the spaxel by spaxel fit,\n",
    "                  # as sometimes you just want to extract the PNe, and not re-fit all spaxels.\n",
    "                  # Default is False, use the flag to set to True.\n",
    "\n",
    "--sep             # This flag tells the script to save the PNe minicubes in a fits file for futher analysis.\n",
    "                  # Default is False, use the flag to set to True.\n",
    "```\n",
    "\n",
    "Using either an IPython console, or the Terminal, run the following commands:\n",
    "\n",
    "```bash\n",
    "# For ipython, run from the MUSE_PNe_fitting/ directory  (see below):\n",
    "%run scripts/pne_analysis/MUSE_spaxel_fit.py --galaxy FCCtest --loc center --fit --sep\n",
    "\n",
    "# For Terminal:\n",
    "$ python scripts/pne_analysis/MUSE_spaxel_fit.py --galaxy FCCtest --loc center --fit --sep\n",
    "```"
   ]
  },
  {
   "cell_type": "code",
   "execution_count": null,
   "metadata": {},
   "outputs": [],
   "source": [
    "%run scripts/pne_analysis/MUSE_spaxel_fit.py --galaxy FCCtest --loc center --fit --sep"
   ]
  },
  {
   "cell_type": "markdown",
   "metadata": {},
   "source": [
    "Once completed, you should be presented with four plots:\n",
    "\n",
    "Amplitude over residual noise (A/rN) intensity map\n",
    "Amplitude in OIII 5007 Å map\n",
    "Flux in OIII 5007 Å map\n",
    "A second A/rN map, though with detected OIII sources circled and numbered.\n",
    "These plots will be saved into Plots/FCCtest/ for you to view whenever.\n",
    "\n",
    "The primary output of scripts/pne_analysis/MUSE_spaxel_fit.py is a .fits file that contains the residual minicubes of the planetary nebulae. This file will be utilised by the next script to fit, filter and analyse the sources for PNe identification."
   ]
  },
  {
   "cell_type": "markdown",
   "metadata": {},
   "source": [
    "# Fitting the Planetary Nebulae with the 1D+2D modelling technique\n",
    "\n",
    "Now that the unresovled point sources in \\[OIII] 5007 $Å$ have been identified and extracted, we can move onto fitting their emission peak profile, allowing us to model their total flux and apparent magnitude, in \\[OIII]. These values can later be used for distance determination and Planetary Nebulae Luminosity Function (PNLF) construction.\n",
    "\n",
    "To run the PNe fitting script, we need to specify another set of flags:\n",
    "\n",
    "```bash\n",
    "--galaxy FCCtest  # This defines the galaxy name that we want to fit.\n",
    "                  # (Required)\n",
    "\n",
    "--loc center      # This defines the location of the datacube:\n",
    "                  # e.g. with the Fornax3D survey, FCC167 had center, disk and halo pointings.\n",
    "                  # Defaults to \"center\".\n",
    "\n",
    "--fit_psf         # This tells the script to fit for the PSF, using the 5-7 brightest sources,\n",
    "                  # in signal to noise, for the best fit parameters.\n",
    "                  # Default is False, use the flag to set to True.\n",
    "\n",
    "--save_gist       # For when we want to analyse the raw spectrum of the sources, \n",
    "                  # we save PNe minicubes to run them through a custom GIST routine for impostor identification.\n",
    "                  # Default is False, use the flag to set to True.\n",
    "                  # (Not required, NOT WORKING IN BINDER)\n",
    "```\n",
    "\n",
    "Then, again, either using the Ipython console, or Terminal:\n",
    "\n",
    "```bash\n",
    "# For ipython, run from the MUSE_PNe_fitting/ directory:\n",
    "%run scripts/pne_analysis/PNe_fitting.py --galaxy FCCtest --loc center --fit_psf\n",
    "\n",
    "# For Terminal:\n",
    "$ python scripts/pne_analysis/PNe_fitting.py --galaxy FCCtest --loc center --fit_psf\n",
    "```"
   ]
  },
  {
   "cell_type": "code",
   "execution_count": null,
   "metadata": {},
   "outputs": [],
   "source": [
    "%run scripts/pne_analysis/PNe_fitting.py --galaxy FCCtest --loc center --fit_psf"
   ]
  },
  {
   "cell_type": "markdown",
   "metadata": {},
   "source": [
    "The distance estimation here, assuming the brightest source of \\[OIII] is at the bright end of the PNLF, will be incorrect, due to the limited number of sources present. (Please see introductory paper about this tehcnique and analysis of NGC1380 and NG1404, [Spriggs, T. W. et al. 2020](https://ui.adsabs.harvard.edu/abs/2020A%26A...637A..62S/abstract))\n",
    "\n",
    "Congratulations! You have now run both scripts, firstly for spaxel by spaxel fitting nebulous \\[OIII] 5007 \\AA{} emission lines, within residual (stellar continuum subtracted) MUSE data, detecting the presence of unresolved point sources in \\[OIII] 5007 Å. The second script then fits the sources and filters out sources that do not meet a set criteria. Those sources that pass this filer are then fitted with our novel 1D+2D modelling technique enclosed herein, see [Spriggs, T. W. et al. 2020](https://ui.adsabs.harvard.edu/abs/2020A%26A...637A..62S/abstract).\n",
    "\n",
    "Any suggestions are welcome for progressing this method, or queries on how to run it with your data. Please see the rest of the README for information about data requirements."
   ]
  },
  {
   "cell_type": "code",
   "execution_count": null,
   "metadata": {},
   "outputs": [],
   "source": []
  }
 ]
}