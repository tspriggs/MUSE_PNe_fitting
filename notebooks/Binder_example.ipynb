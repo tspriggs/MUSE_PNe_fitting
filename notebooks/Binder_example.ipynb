{
 "nbformat": 4,
 "nbformat_minor": 2,
 "metadata": {
  "language_info": {
   "name": "python",
   "codemirror_mode": {
    "name": "ipython",
    "version": 3
   },
   "version": "3.6.7-final"
  },
  "orig_nbformat": 2,
  "file_extension": ".py",
  "mimetype": "text/x-python",
  "name": "python",
  "npconvert_exporter": "python",
  "pygments_lexer": "ipython3",
  "version": 3,
  "kernelspec": {
   "name": "python3",
   "display_name": "Python 3"
  }
 },
 "cells": [
  {
   "cell_type": "markdown",
   "metadata": {},
   "source": [
    "# Change Directory to home directory to run scripts."
   ]
  },
  {
   "cell_type": "code",
   "execution_count": 2,
   "metadata": {},
   "outputs": [
    {
     "output_type": "stream",
     "name": "stderr",
     "text": "The system cannot find the path specified.\n"
    }
   ],
   "source": [
    "cd ~  # change directory to the home directory"
   ]
  },
  {
   "cell_type": "markdown",
   "metadata": {},
   "source": [
    "# Binder Instructions\n",
    "\n",
    "The Binder button will take you to a fully interactive Jupyter Lab environment, where you can execute some of the scripts found within this repository. At present, there are two data files in `galaxy_data/FCCtest_data/`. The first is a residual cube ready for spaxel by spaxel fitting, and the second is a cut-out of the original MUSE cube (FCC167) that the residual cube has been cut from.\n",
    "\n",
    "When you launch the Binder server, the first change you need to make is in `functions/file_handling.py`. The first function sets out the paths to the files that the scripts will be referring back to when opening up useful resources. The `RAW_DATA` path should be changed to show:\n",
    "\n",
    "```python\n",
    "\"RAW_DATA\" : \"galax_data/FCCtest_data/FCCtestcenter.fits\",\n",
    "```\n",
    "\n",
    "Then save and close the file.\n",
    "\n",
    "## Spaxel-by-spaxel fitting of Residual Cube\n",
    "\n",
    "To start the process of detecting and subsequebtly fitting Planetary Nebulae, your terminal needs to be at the top directory:\n",
    "`/MUSE_PNe_fitting/`. This is where we will execute all scripts from.\n",
    "\n",
    "The first script that we want to run is called `MUSE_spaxel_fit.py`, located in `scripts/pne_analysis/`. This script reads in the residual cube from `galaxy_data/FCCtest_data/` and performs a spaxel by spaxel fit for the [OIII] 4959 5007 Å doublet, saving the results for plotting and source detection purposes.\n",
    "\n",
    "To run this script, we first need to provide it with some command line arguments:\n",
    "\n",
    "```bash\n",
    "--galaxy FCCtest  # This defines the galaxy name that we want to fit.\n",
    "                  # (Required)\n",
    "\n",
    "--loc center      # This defines the location of the datacube:\n",
    "                  # e.g. with the Fornax3D survey, FCC167 had center, disk and halo pointings.\n",
    "                  # (Required)\n",
    "\n",
    "--fit            # This flag tells the script to perform the spaxel by spaxel fit,\n",
    "                  # as sometimes you just want to extract the PNe, and not re-fit all spaxels.\n",
    "                  # (Not required)\n",
    "\n",
    "--sep            # This flag tells the script to save the PNe minicubes in a fits file for futher analysis.\n",
    "                  # (Not required)\n",
    "```\n",
    "\n",
    "Using either an IPython console, or the Terminal, run the following commands:\n",
    "\n",
    "```bash\n",
    "# For ipython, run from the MUSE_PNe_fitting/ directory:\n",
    "%run scripts/pne_analysis/MUSE_spaxel_fit.py --galaxy FCCtest --loc center --fit\n",
    "\n",
    "# For Terminal:\n",
    "$ python scripts/pne_analysis/MUSE_spaxel_fit.py --galaxy FCCtest --loc center --fit\n",
    "```"
   ]
  },
  {
   "cell_type": "code",
   "execution_count": null,
   "metadata": {},
   "outputs": [],
   "source": [
    "%run scripts/pne_analysis/MUSE_spaxel_fit.py --galaxy FCCtest --loc center --fit"
   ]
  },
  {
   "cell_type": "markdown",
   "metadata": {},
   "source": [
    "Once completed, you should be presented with four plots:\n",
    "\n",
    "Amplitude over residual noise (A/rN) intensity map\n",
    "Amplitude in OIII 5007 Å map\n",
    "Flux in OIII 5007 Å map\n",
    "A second A/rN map, though with detected OIII sources circled and numbered.\n",
    "These plots will be saved into Plots/FCCtest/ for you to view whenever.\n",
    "\n",
    "The primary out of MUSE_spaxel_fit.py is a fits file that contains the residual minicubes of the OIII sources, (i.e. Planetary Nebulae). This file will be utilised by the next script to fit, filter and analyse the sources for PNe identification."
   ]
  },
  {
   "cell_type": "markdown",
   "metadata": {},
   "source": [
    "## Fitting the Planetary Nebulae with the 1D+2D modelling technique\n",
    "\n",
    "Now that the unresovled point sources in [OIII] 5007 $Å$ have been identified and extracted, we can move onto fitting their emission peak profile, allowing us to model their total flux and apparent magnitude, in [OIII]. These values can later be used for distance determination and Planetary Nebulae Luminosity Function (PNLF) construction.\n",
    "\n",
    "To run the PNe fitting script, we need to specify another set of flags:\n",
    "\n",
    "```bash\n",
    "--galaxy FCCtest  # This defines the galaxy name that we want to fit.\n",
    "                  # (Required)\n",
    "\n",
    "--loc center      # This defines the location of the datacube:\n",
    "                  # e.g. with the Fornax3D survey, FCC167 had center, disk and halo pointings.\n",
    "                  #  (Required)\n",
    "\n",
    "--fit_psf        # This tells the script to fit for the PSF, using the 5-7 brightest sources,\n",
    "                  # in signal to noise, for the best fit parameters.\n",
    "                  # (Not required, works in Binder)\n",
    "\n",
    "--LOSV           # This switch is for if you want to extract the Line of Sight kinematics of the PNe,\n",
    "                  # using some extra information from the GIST ppxf files. (Not required, NOT WORKING IN BINDER)\n",
    "\n",
    "-- save_gist      # For when we want to analyse the raw spectrum of the sources, \n",
    "                  # we save PNe minicubes to run them through a custom GIST routine for impostor identification.\n",
    "                  # (Not required, NOT WORKING IN BINDER)\n",
    "\n",
    "--Lbol           # Set this flag to get the script to calculate the bolometric luminosity of the galaxy \n",
    "                  # (Not required, works in Binder)\n",
    "```\n",
    "\n",
    "Then, again, either using the Ipython console, or Terminal:\n",
    "\n",
    "```bash\n",
    "# For ipython, run from the MUSE_PNe_fitting/ directory:\n",
    "%run scripts/pne_analysis/PNe_fitting.py --galaxy FCCtest --loc center --fit_psf --Lbol\n",
    "\n",
    "# For Terminal:\n",
    "$ python scripts/pne_analysis/PNe_fitting.py --galaxy FCCtest --loc center --fit_psf --Lbol\n",
    "```"
   ]
  },
  {
   "cell_type": "code",
   "execution_count": null,
   "metadata": {},
   "outputs": [],
   "source": [
    "%run scripts/pne_analysis/PNe_fitting.py --galaxy FCCtest --loc center --fit_psf --Lbol"
   ]
  },
  {
   "cell_type": "markdown",
   "metadata": {},
   "source": [
    "The distance estimation here, assuming the brightest source of [OIII] is at the bright end of the PNLF, will be incorrect, due to the limited number of sources present. (Please see introductory paper about this tehcnique and analysis of NGC1380 and NG1404, in prep 2020).\n",
    "\n",
    "You have now run the two important scripts for spaxel by spaxel fitting of residual MUSE data (stellar continuum subtracted data), detected the presence of unresolved point sources in [OIII] 5007 Å, and fitted them with the novel 1D+2D fitting technique enclosed herein.\n",
    "\n",
    "Any suggestions are welcome for progressing this method, or queries on how to run it with your data. Please see the rest of the README for information about data requirements."
   ]
  }
 ]
}